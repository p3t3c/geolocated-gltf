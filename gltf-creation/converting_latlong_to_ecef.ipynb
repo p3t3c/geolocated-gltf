{
 "cells": [
  {
   "metadata": {},
   "cell_type": "markdown",
   "source": [
    "# Converting Latitude and Longitude to Cartesian ECEF\n",
    "\n",
    "A couple of ways this can be done.\n",
    "1. Using n-vector\n",
    "2. Using pyproj\n",
    "\n",
    "Simple examples to get started with"
   ],
   "id": "ba6531384b701e75"
  },
  {
   "metadata": {},
   "cell_type": "markdown",
   "source": [
    "## Nvector\n",
    "\n",
    "The n-vector page\n",
    "[https://www.ffi.no/en/research/n-vector](https://www.ffi.no/en/research/n-vector)\n",
    "\n",
    "Python Implementation\n",
    "[https://pypi.org/project/nvector/](https://pypi.org/project/nvector/)\n"
   ],
   "id": "f5a3136e8458ac84"
  },
  {
   "metadata": {
    "collapsed": true,
    "ExecuteTime": {
     "end_time": "2024-12-05T06:04:47.568302Z",
     "start_time": "2024-12-05T06:04:47.562104Z"
    }
   },
   "cell_type": "code",
   "source": [
    "import nvector as nv\n",
    "\n",
    "wgs84 = nv.FrameE(name='WGS84')\n",
    "\n",
    "# With the n-vector python library z is depth a postive value is under the ground\n",
    "# Here we create points 100 metres above the surface by giving -100 (negative depth == height)\n",
    "\n",
    "null_island = mco = wgs84.GeoPoint(latitude=0, longitude=0, z=-100, degrees=True)\n",
    "mco = wgs84.GeoPoint(latitude=-27.6222, longitude=153.216666, z=-100, degrees=True)\n",
    "\n",
    "null_island_ecef_vec = null_island.to_ecef_vector()\n",
    "mco_ecef_vec = mco.to_ecef_vector()\n",
    "\n",
    "print(f'null island island:\\n {null_island_ecef_vec.pvector}\\n')\n",
    "print(f'mco: \\n{mco_ecef_vec.pvector}')\n"
   ],
   "id": "initial_id",
   "outputs": [
    {
     "name": "stdout",
     "output_type": "stream",
     "text": [
      "null island island:\n",
      " [[6378237.]\n",
      " [      0.]\n",
      " [      0.]]\n",
      "\n",
      "mco: \n",
      "[[-5048619.18561629]\n",
      " [ 2548398.09114826]\n",
      " [-2939521.23511526]]\n"
     ]
    }
   ],
   "execution_count": 3
  },
  {
   "metadata": {},
   "cell_type": "markdown",
   "source": [
    "## PyProj\n",
    "\n",
    "Some examples do it like this:\n"
   ],
   "id": "5e653589d535f9ff"
  },
  {
   "metadata": {
    "ExecuteTime": {
     "end_time": "2024-12-05T06:09:40.846986Z",
     "start_time": "2024-12-05T06:09:40.760545Z"
    }
   },
   "cell_type": "code",
   "source": [
    "import pyproj as pp\n",
    "\n",
    "# There are examples that do it like this\n",
    "\n",
    "transformer = pp.Transformer.from_crs(\n",
    "    {\"proj\": 'latlong', \"ellps\": 'WGS84', \"datum\": 'WGS84'},\n",
    "    {\"proj\": 'geocent', \"ellps\": 'WGS84', \"datum\": 'WGS84'},\n",
    ")\n",
    "\n",
    "example_latitude = -27.0\n",
    "example_longitude = 153.0\n",
    "height_metres = 150\n",
    "\n",
    "x, y, z = transformer.transform(example_longitude, example_latitude, height_metres)\n",
    "\n",
    "print(f'x={x} y={y} z={z}')"
   ],
   "id": "70e666dee795ef8b",
   "outputs": [
    {
     "name": "stdout",
     "output_type": "stream",
     "text": [
      "x=-5067171.884491893 y=2581853.0321112648 z=-2878283.675152389\n"
     ]
    }
   ],
   "execution_count": 4
  },
  {
   "metadata": {},
   "cell_type": "markdown",
   "source": [
    "This way is a little more clear I think\n",
    "\n",
    "You will see ESPG:4326 in relation to GPS coordinates. So why wasn't it used here?\n",
    "\n",
    "EPSG:4979 is a geodetic latitude, longitude and ellipsoidal height.  (North east and up)\n",
    "\n",
    "Transform to ESPG:4978 the Cartesian 3D geocentric ECEF coordinate system. So the input to the transform should have 3 dimensions\n",
    "\n"
   ],
   "id": "aa4aa63128364450"
  },
  {
   "metadata": {
    "ExecuteTime": {
     "end_time": "2024-12-05T06:13:02.639914Z",
     "start_time": "2024-12-05T06:13:02.619008Z"
    }
   },
   "cell_type": "code",
   "outputs": [
    {
     "name": "stdout",
     "output_type": "stream",
     "text": [
      "x=-5067171.884491893 y=2581853.0321112648 z=-2878283.675152389\n"
     ]
    }
   ],
   "execution_count": 5,
   "source": [
    "import pyproj as pp\n",
    "\n",
    "transformer = pp.Transformer.from_crs(\"EPSG:4979\", \"EPSG:4978\", always_xy=True)\n",
    "\n",
    "example_latitude = -27.0\n",
    "example_longitude = 153.0\n",
    "height_metres = 150\n",
    "\n",
    "x, y, z = transformer.transform(example_longitude, example_latitude, height_metres)\n",
    "\n",
    "print(f'x={x} y={y} z={z}')"
   ],
   "id": "17e642416b4188d"
  }
 ],
 "metadata": {
  "kernelspec": {
   "display_name": "Python 3",
   "language": "python",
   "name": "python3"
  },
  "language_info": {
   "codemirror_mode": {
    "name": "ipython",
    "version": 2
   },
   "file_extension": ".py",
   "mimetype": "text/x-python",
   "name": "python",
   "nbconvert_exporter": "python",
   "pygments_lexer": "ipython2",
   "version": "2.7.6"
  }
 },
 "nbformat": 4,
 "nbformat_minor": 5
}
